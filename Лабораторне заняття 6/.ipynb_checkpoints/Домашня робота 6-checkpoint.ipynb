{
 "cells": [
  {
   "cell_type": "markdown",
   "metadata": {},
   "source": [
    "# Домашня робота №6"
   ]
  },
  {
   "cell_type": "markdown",
   "metadata": {},
   "source": [
    "# Математичне сподівання та дисперсія"
   ]
  },
  {
   "cell_type": "markdown",
   "metadata": {},
   "source": [
    "## 1 Порівняння"
   ]
  },
  {
   "cell_type": "markdown",
   "metadata": {},
   "source": [
    "1. Реалізуйте функцію для підрахунку математичного сподівання випадкової величини $\\xi$, заданої в класі **scipy.stats**, усіма можливими способами:\n",
    "   - за допомогою методу **mean**;\n",
    "   - за допомогою методу **expect**;\n",
    "   - за допомогою методу **stats**.\n",
    "\n",
    "2. Реалізуйте функцію для підрахунку дисперсії випадкової величини $\\xi$, заданої в класі **scipy.stats**, усіма можливими способами:\n",
    "   - за допомогою методу **var**;\n",
    "   - за допомогою методу **expect** та формули для дисперсії \n",
    "$\\mathsf{D}(\\xi) = \\mathsf{E} \\left[ \\left( \\xi - \\mathsf{E}[\\xi] \\right)^2 \\right]$;\n",
    "   - за допомогою методу **expect** та формули для дисперсії\n",
    "$\\mathsf{D}(\\xi) = \\mathsf{E}[\\xi^2] - \\left( \\mathsf{E}[\\xi] \\right)^2$;\n",
    "   - за допомогою методу **stats**.\n",
    "\n",
    "3. Порахуйте математичне сподівання та дисперсію, використовуючи функції з пунктів **1., 2.**, і порівняйте (виведіть різницю) їх із теоретичними значеннями, використовуючи формули з лекцій, для таких випадкових величин:\n",
    "   - $\\xi \\sim Binom(10, 0.4)$ (біноміальний розподіл);\n",
    "   - $\\xi \\sim Geom(0.5)$ (геометричний розподіл);\n",
    "   - $\\xi \\sim Pois(0.6)$ (розподіл Пуассона);\n",
    "   - $\\xi \\sim NBinom(5, 0.4)$ (від'ємний біноміальний розподіл);\n",
    "   - $\\xi \\sim HGeom(20, 7, 12)$ (гіпергеометричний розподіл);\n",
    "   - $\\xi \\sim Unif(0, 1)$ (рівномірний розподіл);\n",
    "   - $\\xi \\sim Exp(0.5)$ (експоненційний (показниковий) розподіл);\n",
    "   - $\\xi \\sim N(0, 1)$ (нормальний розподіл);\n",
    "   - $\\xi \\sim \\Gamma(2)$ (гамма розподіл);\n",
    "   - $\\xi \\sim LogNorm(0, 1)$ (логнормальний розподіл);\n",
    "   - $\\xi \\sim B(2, 1.1)$ (бета розподіл)."
   ]
  },
  {
   "cell_type": "code",
   "execution_count": 28,
   "metadata": {
    "scrolled": false
   },
   "outputs": [
    {
     "name": "stdout",
     "output_type": "stream",
     "text": [
      "Binom\n",
      "   E: 4.0, 4.0, 4.0\n",
      "\n",
      "   D: 0.0, 0.0, 0.0, 0.0\n",
      "\n",
      "Geom\n",
      "   E: 2.0, 2.0, 2.0\n",
      "\n",
      "   D: 2.0, 2.0, 2.0, 2.0\n",
      "\n",
      "Pois\n",
      "   E: 0.6, 0.6, 0.6\n",
      "\n",
      "   D: 0.6, 0.5999999999999999, 0.6, 0.6\n",
      "\n",
      "NBinom\n",
      "   E: 7.5, 7.500000000000006, 7.5\n",
      "\n",
      "   D: 18.75, 18.750000000000007, 18.749999999999964, 18.75\n",
      "\n",
      "HGeom\n",
      "   E: 4.199999999999999, 4.199999999999995, 4.199999999999999\n",
      "\n",
      "   D: 1.1494736842105264, 1.1494736842105246, 1.149473684210541, 1.1494736842105264\n",
      "\n",
      "Unif\n",
      "   E: 0.5, 0.5, 0.5\n",
      "\n",
      "   D: 0.08333333333333333, 0.08333333333333333, 0.08333333333333337, 0.08333333333333333\n",
      "\n",
      "Exp\n",
      "   E: 1.5, 1.4999999999999996, 1.5\n",
      "\n",
      "   D: 1.0, 1.0, 1.0000000000000018, 1.0\n",
      "\n",
      "N\n",
      "   E: 0.0, 0.0, 0.0\n",
      "\n",
      "   D: 1.0, 1.000000000000001, 1.000000000000001, 1.0\n",
      "\n",
      "Г\n",
      "   E: 2.0, 2.0, 2.0\n",
      "\n",
      "   D: 2.0, 2.0000000000000004, 2.0, 2.0\n",
      "\n",
      "LogNorm\n",
      "   E: 1.6487212707001282, 1.6487212706999776, 1.6487212707001282\n",
      "\n",
      "   D: 4.670774270471604, 4.670774270452187, 4.670774270429307, 4.670774270471604\n",
      "\n",
      "B\n",
      "   E: 0.6451612903225806, 0.6451612903225803, 0.6451612903225806\n",
      "\n",
      "   D: 0.05583614629070329, 0.055836146290680275, 0.05583614629070349, 0.05583614629070329\n",
      "\n"
     ]
    }
   ],
   "source": [
    "# Місце для Вашого коду\n",
    "from scipy.stats import binom, geom, poisson, nbinom, hypergeom, uniform, expon, norm, lognorm, gamma, beta, hypergeom\n",
    "\n",
    "def getED(name, stat):\n",
    "    print(name)\n",
    "    print(\"   E: {}, {}, {}\\n\".format(stat.mean(),stat.expect(),stat.stats()[0]))\n",
    "    print(\"   D: {}, {}, {}, {}\\n\".format(stat.var(),stat.expect(lambda x:(x-stat.expect())**2),\n",
    "                                          stat.expect(lambda x:x**2)-stat.expect()**2,stat.stats()[1]))\n",
    "    \n",
    "for name, s in zip([\"Binom\",\"Geom\",\"Pois\",\"NBinom\",\"HGeom\",\"Unif\",\"Exp\",\"N\",\"Г\",\"LogNorm\",\"B\"],\n",
    "                   [binom(10,0,4), geom(0.5), poisson(0.6), nbinom(5,0.4), hypergeom(20,7,12),\n",
    "                    uniform(0,1),expon(0.5),norm(0,1),gamma(2),lognorm(1,0),beta(2,1.1)]):\n",
    "    getED(name, s)\n"
   ]
  },
  {
   "cell_type": "markdown",
   "metadata": {},
   "source": [
    "## 2 Унікальні цифри"
   ]
  },
  {
   "cell_type": "markdown",
   "metadata": {},
   "source": [
    "Нехай випадковим чином вибирають послідовно $n$ цифр (цифри можуть повторюватися, вибірка з поверненням).\n",
    "Нехай тоді випадкова величина $\\xi$ - це кількість унікальних цифр в отриманому наборі.\n",
    "\n",
    "Напишіть функцію для обрахунку математичного сподівання та дисперсії випадкової величини $\\xi$ в залежності від кількості $n$ цифр у наборі методом повного перебору.\n",
    "Виведіть результат для $n = 1, 2, 3, 4, 5, 6, 7.$"
   ]
  },
  {
   "cell_type": "code",
   "execution_count": 51,
   "metadata": {},
   "outputs": [
    {
     "name": "stdout",
     "output_type": "stream",
     "text": [
      "n= 1\n",
      " E= 1.0\n",
      " D= 0.0\n",
      "\n",
      "n= 2\n",
      " E= 1.9000000000000001\n",
      " D= 0.08999999999999986\n",
      "\n",
      "n= 3\n",
      " E= 2.71\n",
      " D= 0.22589999999999932\n",
      "\n",
      "n= 4\n",
      " E= 3.439\n",
      " D= 0.37827899999999914\n",
      "\n",
      "n= 5\n",
      " E= 4.0951\n",
      " D= 0.5282559899999946\n",
      "\n",
      "n= 6\n",
      " E= 4.6855899999999995\n",
      " D= 0.6644163519000053\n",
      "\n",
      "n= 7\n",
      " E= 5.2170309999999995\n",
      " D= 0.7805445450390032\n",
      "\n"
     ]
    }
   ],
   "source": [
    "# Місце для Вашого коду\n",
    "from itertools import product\n",
    "\n",
    "def get_all(n):\n",
    "    dt = dict()\n",
    "    for i in product(range(10), repeat=n):\n",
    "        t = len(set(i))\n",
    "        if t in dt.keys():\n",
    "            dt[t]+=1\n",
    "        else:\n",
    "            dt[t]=1\n",
    "    dt[\"sum\"] = sum(dt.values())\n",
    "    return(dt)\n",
    "            \n",
    "def P_ksi(n, dt):\n",
    "    return dt[n]/dt[\"sum\"]\n",
    "\n",
    "def E(dt):\n",
    "    return sum(x*P_ksi(x,dt) for x in range(1,len(dt.values())))\n",
    "\n",
    "def D(dt,E):\n",
    "    return sum(x**2*P_ksi(x,dt) for x in range(1,len(dt.values())))-E**2\n",
    "    \n",
    "for n in range(1,8):\n",
    "    dt = get_all(n)\n",
    "    e = E(dt)\n",
    "    print(\"n= {}\\n E= {}\\n D= {}\\n\".format(n,e,D(dt,e)))\n",
    "    \n",
    "\n",
    "\n"
   ]
  },
  {
   "cell_type": "markdown",
   "metadata": {},
   "source": [
    "## 3 Максимальне значення"
   ]
  },
  {
   "cell_type": "markdown",
   "metadata": {},
   "source": [
    "Нехай випадкова величина $\\xi$ - це максимальне значення після $n$ кидків грального кубика.\n",
    "\n",
    "Напишіть функцію для обрахунку математичного сподівання та дисперсії випадкової величини $\\xi$ в залежності від кількості $n$ кидків кубика методом повного перебору.\n",
    "Виведіть результат для $n = 1, 2, 3, 4, 5, 6, 7, 8, 9.$\n",
    "\n",
    "Напишіть теоретичну формулу для математичного сподівання та дисперсії випадкової величини $\\xi$.\n",
    "Порівняйте теоретичні значення з обчисленими повним перебором."
   ]
  },
  {
   "cell_type": "code",
   "execution_count": 55,
   "metadata": {},
   "outputs": [
    {
     "name": "stdout",
     "output_type": "stream",
     "text": [
      "n= 1\n",
      " E= 3.5\n",
      " D= 2.916666666666666\n",
      "\n",
      "n= 2\n",
      " E= 4.472222222222222\n",
      " D= 1.9714506172839492\n",
      "\n",
      "n= 3\n",
      " E= 4.958333333333333\n",
      " D= 1.3084490740740762\n",
      "\n",
      "n= 4\n",
      " E= 5.244598765432099\n",
      " D= 0.9100788513564986\n",
      "\n",
      "n= 5\n",
      " E= 5.4309413580246915\n",
      " D= 0.6593255541742877\n",
      "\n",
      "n= 6\n",
      " E= 5.560292352537722\n",
      " D= 0.49284974306223717\n",
      "\n",
      "n= 7\n",
      " E= 5.6541173696845\n",
      " D= 0.3773252254790407\n",
      "\n",
      "n= 8\n",
      " E= 5.724354257163542\n",
      " D= 0.2942463096489405\n",
      "\n",
      "n= 9\n",
      " E= 5.778176976165981\n",
      " D= 0.23276028509143742\n",
      "\n"
     ]
    }
   ],
   "source": [
    "# Місце для Вашого коду\n",
    "from itertools import product\n",
    "\n",
    "def get_all(n):\n",
    "    dt = dict()\n",
    "    for i in product(range(1,7), repeat=n):\n",
    "        t = max(i)\n",
    "        if t in dt.keys():\n",
    "            dt[t]+=1\n",
    "        else:\n",
    "            dt[t]=1\n",
    "    dt[\"sum\"] = sum(dt.values())\n",
    "    return(dt)\n",
    "\n",
    "def P_ksi(n, dt):\n",
    "    return dt[n]/dt[\"sum\"]\n",
    "\n",
    "def E(dt):\n",
    "    return sum(x*P_ksi(x,dt) for x in range(1,len(dt.values())))\n",
    "\n",
    "def D(dt,E):\n",
    "    return sum(x**2*P_ksi(x,dt) for x in range(1,len(dt.values())))-E**2\n",
    "    \n",
    "for n in range(1,10):\n",
    "    dt = get_all(n)\n",
    "    e = E(dt)\n",
    "    print(\"n= {}\\n E= {}\\n D= {}\\n\".format(n,e,D(dt,e)))\n",
    "\n",
    "\n",
    "\n",
    "\n"
   ]
  },
  {
   "cell_type": "markdown",
   "metadata": {},
   "source": [
    "## 4 Сума значень"
   ]
  },
  {
   "cell_type": "markdown",
   "metadata": {},
   "source": [
    "Нехай випадкова величина $\\xi$ - це сума значень після $n$ кидків грального кубика (сума цифр, що випали).\n",
    "\n",
    "Напишіть функцію для обрахунку математичного сподівання та дисперсії випадкової величини $\\xi$ в залежності від кількості $n$ кидків кубика методом повного перебору.\n",
    "Виведіть результат для $n = 1, 2, 3, 5, 7, 8.$\n",
    "\n",
    "Напишіть теоретичну формулу для математичного сподівання та дисперсії випадкової величини $\\xi$.\n",
    "Порівняйте теоретичні значення з обчисленими повним перебором."
   ]
  },
  {
   "cell_type": "code",
   "execution_count": 10,
   "metadata": {},
   "outputs": [
    {
     "name": "stdout",
     "output_type": "stream",
     "text": [
      "n= 1\n",
      " E= 3.5\n",
      " D= 2.916666666666666\n",
      "\n",
      "n= 2\n",
      " E= 6.999999999999999\n",
      " D= 5.833333333333336\n",
      "\n",
      "n= 3\n",
      " E= 10.500000000000002\n",
      " D= 8.749999999999972\n",
      "\n",
      "n= 4\n",
      " E= 14.000000000000002\n",
      " D= 11.666666666666572\n",
      "\n",
      "n= 5\n",
      " E= 17.5\n",
      " D= 14.583333333333371\n",
      "\n",
      "n= 6\n",
      " E= 20.999999999999996\n",
      " D= 17.500000000000114\n",
      "\n",
      "n= 7\n",
      " E= 24.5\n",
      " D= 20.41666666666663\n",
      "\n",
      "n= 8\n",
      " E= 28.000000000000007\n",
      " D= 23.33333333333303\n",
      "\n"
     ]
    }
   ],
   "source": [
    "# Місце для Вашого коду\n",
    "from itertools import product\n",
    "\n",
    "def get_all(n):\n",
    "    dt = dict()\n",
    "    for i in product(range(1,7), repeat=n):\n",
    "        t = sum(i)\n",
    "        if t in dt.keys():\n",
    "            dt[t]+=1\n",
    "        else:\n",
    "            dt[t]=1\n",
    "    dt[\"sum\"] = sum(dt.values())\n",
    "    return(dt)\n",
    "\n",
    "def P_ksi(n, dt):\n",
    "    return dt[n]/dt[\"sum\"]\n",
    "\n",
    "def E(dt):\n",
    "    return sum(x*P_ksi(x,dt) for x in set(dt.keys()).difference({\"sum\"}))\n",
    "\n",
    "def D(dt,E):\n",
    "    return sum(x**2*P_ksi(x,dt) for x in set(dt.keys()).difference({\"sum\"}))-E**2\n",
    "    \n",
    "for n in range(1,9):\n",
    "    dt = get_all(n)\n",
    "    e = E(dt)\n",
    "    print(\"n= {}\\n E= {}\\n D= {}\\n\".format(n,e,D(dt,e)))\n",
    "\n",
    "\n"
   ]
  },
  {
   "cell_type": "markdown",
   "metadata": {},
   "source": [
    "## 5 Парадокс днів народження"
   ]
  },
  {
   "cell_type": "markdown",
   "metadata": {},
   "source": [
    "Нехай маємо $n$ людей.\n",
    "Їх дні народження припадають на один з 12 місяців.\n",
    "Нехай тоді випадкова величина $\\xi$ - це кількість співпадінь місяців народжень серед цих $n$ людей.\n",
    "\n",
    "Напишіть функцію для обрахунку математичного сподівання та дисперсії випадкової величини $\\xi$ в залежності від кількості $n$ людей методом повного перебору.\n",
    "Виведіть результат для $n = 1, 2, 3, 4, 5, 6.$\n",
    "\n",
    "Для якого $n$ виконується $\\mathsf{E}\\left[ \\xi \\right] \\geq 1$?\n",
    "\n",
    "**Зауваження.** Кількість співпадінь означає кількість однакових пар. Наприклад,\n",
    "- у наборі $\\{ 1, 1, 2, 3 \\}$ є одна пара;\n",
    "- у наборі $\\{ 1, 1, 1, 3 \\}$ є три пари;\n",
    "- у наборі $\\{ 1, 1, 1, 1 \\}$ є шість пар."
   ]
  },
  {
   "cell_type": "code",
   "execution_count": 19,
   "metadata": {},
   "outputs": [
    {
     "name": "stdout",
     "output_type": "stream",
     "text": [
      "n= 1\n",
      " E= 0.0\n",
      " D= 0.0\n",
      "\n",
      "n= 2\n",
      " E= 0.1\n",
      " D= 0.09\n",
      "\n",
      "n= 3\n",
      " E= 0.30000000000000004\n",
      " D= 0.26999999999999996\n",
      "\n",
      "n= 4\n",
      " E= 0.6\n",
      " D= 0.54\n",
      "\n",
      "n= 5\n",
      " E= 1.0\n",
      " D= 0.8999999999999997\n",
      "\n",
      "n= 6\n",
      " E= 1.5000000000000002\n",
      " D= 1.3499999999999988\n",
      "\n"
     ]
    }
   ],
   "source": [
    "# Місце для Вашого коду\n",
    "\n",
    "def pair_count(a):\n",
    "    rez = 0\n",
    "    for i in range(len(a)-1):\n",
    "        for j in range(i+1,len(a)):\n",
    "            if a[i]==a[j]:\n",
    "                rez+=1\n",
    "    return rez\n",
    "            \n",
    "def get_all(n):\n",
    "    dt = dict()\n",
    "    for i in product(range(10), repeat=n):\n",
    "        t = pair_count(i)\n",
    "        if t in dt.keys():\n",
    "            dt[t]+=1\n",
    "        else:\n",
    "            dt[t]=1\n",
    "    dt[\"sum\"] = sum(dt.values())\n",
    "    return(dt)\n",
    "            \n",
    "def P_ksi(n, dt):\n",
    "    return dt[n]/dt[\"sum\"]\n",
    "\n",
    "def E(dt):\n",
    "    return sum(x*P_ksi(x,dt) for x in set(dt.keys()).difference({\"sum\"}))\n",
    "\n",
    "def D(dt,E):\n",
    "    return sum(x**2*P_ksi(x,dt) for x in set(dt.keys()).difference({\"sum\"}))-E**2\n",
    "    \n",
    "for n in range(1,7):\n",
    "    dt = get_all(n)\n",
    "    e = E(dt)\n",
    "    print(\"n= {}\\n E= {}\\n D= {}\\n\".format(n,e,D(dt,e)))\n"
   ]
  },
  {
   "cell_type": "code",
   "execution_count": null,
   "metadata": {},
   "outputs": [],
   "source": []
  }
 ],
 "metadata": {
  "kernelspec": {
   "display_name": "Python 3",
   "language": "python",
   "name": "python3"
  },
  "language_info": {
   "codemirror_mode": {
    "name": "ipython",
    "version": 3
   },
   "file_extension": ".py",
   "mimetype": "text/x-python",
   "name": "python",
   "nbconvert_exporter": "python",
   "pygments_lexer": "ipython3",
   "version": "3.7.1"
  }
 },
 "nbformat": 4,
 "nbformat_minor": 1
}
