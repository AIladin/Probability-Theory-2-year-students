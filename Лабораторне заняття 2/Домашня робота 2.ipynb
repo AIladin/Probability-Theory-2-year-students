{
 "cells": [
  {
   "cell_type": "markdown",
   "metadata": {},
   "source": [
    "# Домашня робота №2"
   ]
  },
  {
   "cell_type": "markdown",
   "metadata": {},
   "source": [
    "## 1 Пароль\n",
    "Напишіть програму (функцію) для генерування випадкового пароля з такими обмеженнями:\n",
    "- пароль складається з рівно $10$ символів\n",
    "- пароль містить хоча б одну маленьку латинську літеру [a-z]\n",
    "- пароль містить хоча б одну велику латинську літеру [A-Z]\n",
    "- пароль містить хоча б одну цифру [0-9]\n",
    "- пароль містить хоча б один спеціальний символ [~!@#$%^&*()-_+=\\/{}[].,?<>:;]"
   ]
  },
  {
   "cell_type": "code",
   "execution_count": 33,
   "metadata": {
    "collapsed": false
   },
   "outputs": [
    {
     "name": "stdout",
     "output_type": "stream",
     "text": [
      "password:  i:c4H>6%jQ\n"
     ]
    }
   ],
   "source": [
    "# Місце для Вашого коду\n",
    "import numpy as np\n",
    "\n",
    "\n",
    "def pass_gen():\n",
    "    chars = {\n",
    "        'lowercase': list('abcdefghijklmnopqrstuvwxyz'),\n",
    "        'uppercase': list('ABCDEFGHIJKLMNOPQRSTUVWXYZ'),\n",
    "        'nums': list(map(str,range(10))),\n",
    "        'symbols': list('~!@#$%^&*()-_+=\\\\/{}[].,?<>:;')}\n",
    "    \n",
    "    rez = [np.random.choice(el) for el in chars.values()]\n",
    "    for i in range(6):\n",
    "        rez += [np.random.choice(np.random.choice(list(chars.values())))]\n",
    "    np.random.shuffle(rez)\n",
    "    return ''.join(rez)\n",
    "    \n",
    "    \n",
    "print(\"password: \", pass_gen())\n",
    "\n"
   ]
  },
  {
   "cell_type": "markdown",
   "metadata": {},
   "source": [
    "## 2 Герби в ряд\n",
    "Реалізуйте функцію для обчислення емпіричної та теоретичної імовірностей випадіння $k$ гербів (HEADS) підряд у серії з $n$ підкидань чесної монетки. Підрахуйте відповідні ймовірності для таких параметрів:\n",
    "- $k = 2, n = 10, 50, 100, 500, 1000, 5000, 10000$\n",
    "- $k = 3, n = 10, 50, 100, 500, 1000, 5000, 10000$\n",
    "\n",
    "**Зауваження.** Нехай $k = 2, n = 10$ та маємо таку послідовність результатів підкидання монети: $\\{ H, T, H, H, H, H, T, T, H, T \\}$. Тоді матимемо $3$ випадки випадіння двох гербів підряд та емпіричну ймовірність такої події $1/3$."
   ]
  },
  {
   "cell_type": "code",
   "execution_count": 43,
   "metadata": {
    "collapsed": false
   },
   "outputs": [
    {
     "name": "stdout",
     "output_type": "stream",
     "text": [
      "n=10, k=2,\n theoretical: 0.25, empirical 0.1111111111111111\n\nn=50, k=2,\n theoretical: 0.25, empirical 0.30612244897959184\n\nn=100, k=2,\n theoretical: 0.25, empirical 0.2727272727272727\n\nn=500, k=2,\n theoretical: 0.25, empirical 0.2605210420841683\n\nn=1000, k=2,\n theoretical: 0.25, empirical 0.26326326326326327\n\nn=5000, k=2,\n theoretical: 0.25, empirical 0.24284856971394278\n\nn=10000, k=2,\n theoretical: 0.25, empirical 0.2516251625162516\n\nn=10, k=3,\n theoretical: 0.125, empirical 0.0\n\nn=50, k=3,\n theoretical: 0.125, empirical 0.2708333333333333\n\nn=100, k=3,\n theoretical: 0.125, empirical 0.10204081632653061\n\nn=500, k=3,\n theoretical: 0.125, empirical 0.13052208835341367\n\nn=1000, k=3,\n theoretical: 0.125, empirical 0.12224448897795591\n\nn=5000, k=3,\n theoretical: 0.125, empirical 0.1290516206482593\n\nn=10000, k=3,\n theoretical: 0.125, empirical 0.12192438487697539\n\n"
     ]
    }
   ],
   "source": [
    "# Місце для Вашого коду\n",
    "import math\n",
    "\n",
    "\n",
    "def empirical_coin(n, k):\n",
    "    tosses = np.random.choice([\"H\", \"T\"], size=n)\n",
    "    count = 0\n",
    "    for i in range(n-k+1):\n",
    "        b = True\n",
    "        for j in range(i,i+k):\n",
    "            if tosses[j] != 'H':\n",
    "                b = False\n",
    "                break\n",
    "        if b:\n",
    "            count += 1\n",
    "    return count/(n+1-k)\n",
    "\n",
    "         \n",
    "def theoretical_coin(n, k):\n",
    "    return 1/2**k\n",
    "    \n",
    "    \n",
    "for k in [2, 3]:\n",
    "    for n in [10, 50, 100, 500, 1000, 5000, 10000]:\n",
    "        print(\"n={}, k={},\\n theoretical: {}, empirical {}\\n\".format(n,k,\n",
    "                         theoretical_coin(n,k), empirical_coin(n,k)))\n"
   ]
  },
  {
   "cell_type": "markdown",
   "metadata": {},
   "source": [
    "## 3 Найбільше число\n",
    "Реалізуйте функцію підрахунку точної (теоретичної) імовірності того, що максимальне число після $n$ кидків звичайного грального кубика дорівнює $x\\_max$, для таких параметрів:\n",
    "- $n = 3, x\\_max = 6$\n",
    "- $n = 2, x\\_max = 3$\n",
    "- $n = 3, x\\_max = 5$\n",
    "\n",
    "Тобто, якщо $X_i, i = 1, \\ldots, n$, - число на $i$-му кидку кубика, а $X = \\max\\limits_{1 \\leq i \\leq n} X_i$, то потрібно знайти ймовірність $\\textbf{P} \\left( X = x\\_max \\right)$.\n",
    "\n",
    "Підрахуйте також емпіричні ймовірності відповідних подій у випадку $10000$ симуляцій.\n",
    "\n",
    "**Зауваження.** Якщо введені параметри не мають сенсу, то повертати $0$.\n",
    "Тобто, якщо вводиться $x\\_max < 1$ або $x\\_max > 6$."
   ]
  },
  {
   "cell_type": "code",
   "execution_count": 60,
   "metadata": {
    "collapsed": false
   },
   "outputs": [
    {
     "name": "stdout",
     "output_type": "stream",
     "text": [
      "n=3, x_max=6, \n theoretical: 0.4212962962962963, empirical 0.4187\n\n"
     ]
    },
    {
     "name": "stdout",
     "output_type": "stream",
     "text": [
      "n=2, x_max=3, \n theoretical: 0.1388888888888889, empirical 0.138\n\n"
     ]
    },
    {
     "name": "stdout",
     "output_type": "stream",
     "text": [
      "n=3, x_max=5, \n theoretical: 0.2824074074074074, empirical 0.2758\n\n"
     ]
    }
   ],
   "source": [
    "# Місце для Вашого коду\n",
    "\n",
    "\n",
    "def empirical_cube(n, x_max, reps=10000):\n",
    "    assert 1 <= x_max <= 6, \"wrong input\"\n",
    "    positive = 0\n",
    "    for i in range(reps):\n",
    "        tosses = np.random.choice(range(1, 7), size=n)\n",
    "        if max(tosses) == x_max:\n",
    "            positive += 1\n",
    "    return positive/reps\n",
    "\n",
    "\n",
    "def theoretical_cube(n, x_max):\n",
    "    assert 1 <= x_max <= 6, \"wrong input\"\n",
    "    return (x_max ** n - (x_max - 1) ** n) / 6 ** n\n",
    "\n",
    "\n",
    "for n, x_max in [(3,6),(2,3),(3,5)]:\n",
    "    print(\"n={}, x_max={}, \\n theoretical: {}, empirical {}\\n\".format(n, x_max,\n",
    "          theoretical_cube(n, x_max),empirical_cube(n, x_max)))\n",
    "\n"
   ]
  },
  {
   "cell_type": "markdown",
   "metadata": {},
   "source": [
    "## 4 Сума чисел\n",
    "Реалізуйте функцію підрахунку точної (теоретичної) імовірності того, що сума чисел після $n$ кидків звичайного грального кубика дорівнює $s$, для таких параметрів:\n",
    "- $n = 3, s = 13$\n",
    "- $n = 2, s = 5$\n",
    "- $n = 3, s = 7$\n",
    "\n",
    "Тобто, якщо $X_i, i = 1, \\ldots, n$, - число на $i$-му кидку кубика, а $X = \\sum\\limits_{i = 1}^{n} X_i$, то потрібно знайти ймовірність $\\textbf{P} \\left( X = s \\right)$.\n",
    "\n",
    "Підрахуйте також емпіричні ймовірності відповідних подій у випадку $10000$ симуляцій.\n",
    "\n",
    "**Зауваження.** Якщо введені параметри не мають сенсу, то повертати $0$.\n",
    "Наприклад, якщо при $n = 3$ вводиться $s < 3$ або $s > 18$."
   ]
  },
  {
   "cell_type": "code",
   "execution_count": 61,
   "metadata": {
    "collapsed": true
   },
   "outputs": [
    {
     "name": "stdout",
     "output_type": "stream",
     "text": [
      "n=3, s=6, \n theoretical: 0.046296296296296294, empirical 0.0479\n\n"
     ]
    },
    {
     "name": "stdout",
     "output_type": "stream",
     "text": [
      "n=2, s=3, \n theoretical: 0.05555555555555555, empirical 0.0552\n\n"
     ]
    },
    {
     "name": "stdout",
     "output_type": "stream",
     "text": [
      "n=3, s=5, \n theoretical: 0.027777777777777776, empirical 0.031\n\n"
     ]
    }
   ],
   "source": [
    "# Місце для Вашого коду\n",
    "from itertools import product\n",
    "\n",
    "\n",
    "def empirical_sum_cube(n, s, reps=10000):\n",
    "    assert n < s < n*6, \"wrong input\"\n",
    "    positive = 0\n",
    "    for i in range(reps):\n",
    "        tosses = np.random.choice(range(1, 7), size=n)\n",
    "        if sum(tosses) == s:\n",
    "            positive += 1\n",
    "    return positive/reps\n",
    "\n",
    "\n",
    "def theoretical_sum_cube(n, s):\n",
    "    assert n < s < n*6, \"wrong input\"\n",
    "    count = 0\n",
    "    space = range(1, 7)\n",
    "    for test in product(space, repeat = n):\n",
    "        if sum(test) == s:\n",
    "            count += 1\n",
    "    return count / 6 ** n\n",
    "\n",
    "\n",
    "for n, s in [(3,6),(2,3),(3,5)]:\n",
    "    print(\"n={}, s={}, \\n theoretical: {}, empirical {}\\n\".format(n, s,\n",
    "          theoretical_sum_cube(n, s), empirical_sum_cube(n, s)))\n",
    "\n"
   ]
  },
  {
   "cell_type": "code",
   "execution_count": null,
   "metadata": {},
   "outputs": [],
   "source": []
  }
 ],
 "metadata": {
  "kernelspec": {
   "display_name": "Python 3",
   "language": "python",
   "name": "python3"
  },
  "language_info": {
   "codemirror_mode": {
    "name": "ipython",
    "version": 3
   },
   "file_extension": ".py",
   "mimetype": "text/x-python",
   "name": "python",
   "nbconvert_exporter": "python",
   "pygments_lexer": "ipython3",
   "version": "3.6.1"
  }
 },
 "nbformat": 4,
 "nbformat_minor": 0
}
