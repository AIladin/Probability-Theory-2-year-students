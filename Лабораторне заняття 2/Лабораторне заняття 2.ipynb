{
 "cells": [
  {
   "cell_type": "markdown",
   "metadata": {},
   "source": [
    "# Лабораторне заняття №2\n",
    "Знайомство з бібліотекою **NumPy**."
   ]
  },
  {
   "cell_type": "code",
   "execution_count": 1,
   "metadata": {
    "collapsed": true
   },
   "outputs": [],
   "source": [
    "import numpy as np"
   ]
  },
  {
   "cell_type": "markdown",
   "metadata": {},
   "source": [
    "## 1 Огляд функцій випадкового вибору"
   ]
  },
  {
   "cell_type": "markdown",
   "metadata": {},
   "source": [
    "### 1.1 Функція *choice*\n",
    "Для детальної інформації див. [документацію](https://docs.scipy.org/doc/numpy-1.14.1/reference/generated/numpy.random.choice.html)."
   ]
  },
  {
   "cell_type": "code",
   "execution_count": 2,
   "metadata": {
    "collapsed": false
   },
   "outputs": [
    {
     "name": "stdout",
     "output_type": "stream",
     "text": [
      "['2' '2' '4.5' 'top' 'top' '2' '4.5' 'top' '4.5' 'top']\n"
     ]
    }
   ],
   "source": [
    "a = [\"top\", 2, \"bottom\", 4.5]\n",
    "size = 10\n",
    "probs = [0.4, 0.2, 0.1, 0.3]\n",
    "replace = True\n",
    "print(np.random.choice(a, size=size, replace=replace, p=probs))"
   ]
  },
  {
   "cell_type": "markdown",
   "metadata": {},
   "source": [
    "Згенеруйте одну випадкову цифру, вважаючи їх рівноймовірними."
   ]
  },
  {
   "cell_type": "code",
   "execution_count": 4,
   "metadata": {
    "collapsed": true
   },
   "outputs": [
    {
     "name": "stdout",
     "output_type": "stream",
     "text": [
      "7\n"
     ]
    }
   ],
   "source": [
    "# Місце для Вашого коду\n",
    "\n",
    "print(np.random.choice(10))"
   ]
  },
  {
   "cell_type": "markdown",
   "metadata": {},
   "source": [
    "Згенеруйте випадкову матрицю $4 \\times 6$ із рівноймовірних цифр."
   ]
  },
  {
   "cell_type": "code",
   "execution_count": 7,
   "metadata": {
    "collapsed": true
   },
   "outputs": [
    {
     "name": "stdout",
     "output_type": "stream",
     "text": [
      "[[0 1 8 1 0 1]\n [4 3 5 9 6 0]\n [0 7 7 3 0 1]\n [6 0 2 5 6 7]]\n"
     ]
    }
   ],
   "source": [
    "# Місце для Вашого коду\n",
    "\n",
    "t = np.matrix([[np.random.choice(10) for i in range(6)] for j in range(4)])\n",
    "print(t)"
   ]
  },
  {
   "cell_type": "markdown",
   "metadata": {},
   "source": [
    "### 1.2 Функція *randint*\n",
    "Для детальної інформації див. [документацію](https://docs.scipy.org/doc/numpy-1.14.1/reference/generated/numpy.random.randint.html)."
   ]
  },
  {
   "cell_type": "code",
   "execution_count": 5,
   "metadata": {
    "collapsed": false
   },
   "outputs": [
    {
     "name": "stdout",
     "output_type": "stream",
     "text": [
      "[3 1 4 2 1 4 1 1 0 4]\n"
     ]
    }
   ],
   "source": [
    "low = 0\n",
    "high = 5\n",
    "size = 10\n",
    "print(np.random.randint(low=low, high=high, size=size))"
   ]
  },
  {
   "cell_type": "markdown",
   "metadata": {},
   "source": [
    "Згенеруйте одну випадкову цифру."
   ]
  },
  {
   "cell_type": "code",
   "execution_count": 9,
   "metadata": {
    "collapsed": true
   },
   "outputs": [
    {
     "name": "stdout",
     "output_type": "stream",
     "text": [
      "5\n"
     ]
    }
   ],
   "source": [
    "# Місце для Вашого коду\n",
    "\n",
    "print(np.random.randint(10))"
   ]
  },
  {
   "cell_type": "markdown",
   "metadata": {},
   "source": [
    "Згенеруйте випадкову матрицю $4 \\times 5$ із двоцифрових чисел."
   ]
  },
  {
   "cell_type": "code",
   "execution_count": 10,
   "metadata": {
    "collapsed": true
   },
   "outputs": [
    {
     "name": "stdout",
     "output_type": "stream",
     "text": [
      "[[78 96 87 82 39]\n [82 98 48 27 66]\n [74 17 92 23 80]\n [36 34 24 18 85]]\n"
     ]
    }
   ],
   "source": [
    "# Місце для Вашого коду\n",
    "\n",
    "t = np.matrix([[np.random.randint(10,99) for i in range(5)] for j in range(4)])\n",
    "print(t)"
   ]
  },
  {
   "cell_type": "markdown",
   "metadata": {},
   "source": [
    "### 1.3 Функція *sample*\n",
    "Для детальної інформації див. [документацію](https://docs.scipy.org/doc/numpy-1.14.1/reference/generated/numpy.random.sample.html)."
   ]
  },
  {
   "cell_type": "code",
   "execution_count": 8,
   "metadata": {
    "collapsed": false
   },
   "outputs": [
    {
     "name": "stdout",
     "output_type": "stream",
     "text": [
      "0.3369603119037976\n"
     ]
    }
   ],
   "source": [
    "size = None\n",
    "print(np.random.sample(size=size))"
   ]
  },
  {
   "cell_type": "markdown",
   "metadata": {},
   "source": [
    "Згенеруйте випадкову матрицю $3 \\times 4$ із чисел з інтервалу $[0, 1)$."
   ]
  },
  {
   "cell_type": "code",
   "execution_count": 12,
   "metadata": {
    "collapsed": true
   },
   "outputs": [
    {
     "name": "stdout",
     "output_type": "stream",
     "text": [
      "[[0.62880334 0.88360395 0.12777946 0.74709575]\n [0.94683649 0.95404421 0.4491129  0.28130956]\n [0.12191174 0.91081926 0.44328292 0.61134051]]\n"
     ]
    }
   ],
   "source": [
    "# Місце для Вашого коду\n",
    "\n",
    "t = np.matrix([[np.random.sample() for i in range(4)] for j in range(3)])\n",
    "print(t)"
   ]
  },
  {
   "cell_type": "markdown",
   "metadata": {},
   "source": [
    "Згенеруйте 10 випадкових чисел з інтервалу $[a, b)$."
   ]
  },
  {
   "cell_type": "code",
   "execution_count": 13,
   "metadata": {
    "collapsed": true
   },
   "outputs": [],
   "source": [
    "a = 3\n",
    "b = 5"
   ]
  },
  {
   "cell_type": "code",
   "execution_count": 17,
   "metadata": {
    "collapsed": true
   },
   "outputs": [
    {
     "name": "stdout",
     "output_type": "stream",
     "text": [
      "[[4.11455364 4.83924967 4.1559253  3.47819874 3.23754889 4.52354144\n  3.73070418 4.1623933  4.12591486 4.48508392]]\n"
     ]
    }
   ],
   "source": [
    "# Місце для Вашого коду\n",
    "t = np.matrix([(b - a) * np.random.sample() + a for j in range(10)])\n",
    "print(t)\n"
   ]
  },
  {
   "cell_type": "markdown",
   "metadata": {},
   "source": [
    "### 1.4 Функція *shuffle*\n",
    "Для детальної інформації див. [документацію](https://docs.scipy.org/doc/numpy-1.14.1/reference/generated/numpy.random.shuffle.html)."
   ]
  },
  {
   "cell_type": "code",
   "execution_count": 12,
   "metadata": {
    "collapsed": false
   },
   "outputs": [
    {
     "name": "stdout",
     "output_type": "stream",
     "text": [
      "[9 5 3 7 8 1 0 2 6 4]\n"
     ]
    }
   ],
   "source": [
    "x = np.arange(10)\n",
    "np.random.shuffle(x)\n",
    "print(x)"
   ]
  },
  {
   "cell_type": "markdown",
   "metadata": {},
   "source": [
    "Перетасуйте матрицю $M$."
   ]
  },
  {
   "cell_type": "code",
   "execution_count": 26,
   "metadata": {
    "collapsed": false
   },
   "outputs": [
    {
     "name": "stdout",
     "output_type": "stream",
     "text": [
      "[[ 0  1  2  3  4]\n [ 5  6  7  8  9]\n [10 11 12 13 14]\n [15 16 17 18 19]]\n"
     ]
    }
   ],
   "source": [
    "M = np.arange(20).reshape((4, 5))\n",
    "print(M)"
   ]
  },
  {
   "cell_type": "code",
   "execution_count": 27,
   "metadata": {
    "collapsed": true
   },
   "outputs": [
    {
     "name": "stdout",
     "output_type": "stream",
     "text": [
      "[[ 0  1  2  3  4]\n [15 16 17 18 19]\n [ 5  6  7  8  9]\n [10 11 12 13 14]]\n"
     ]
    }
   ],
   "source": [
    "# Місце для Вашого коду\n",
    "\n",
    "np.random.shuffle(M)\n",
    "print(M)"
   ]
  },
  {
   "cell_type": "markdown",
   "metadata": {},
   "source": [
    "## 2 Відтворюваність результатів\n",
    "Можна задати початкове значення для генератора. Це зафіксує \"випадкову\" послідовність."
   ]
  },
  {
   "cell_type": "code",
   "execution_count": 15,
   "metadata": {
    "collapsed": true
   },
   "outputs": [],
   "source": [
    "np.random.seed(42)"
   ]
  },
  {
   "cell_type": "code",
   "execution_count": 16,
   "metadata": {
    "collapsed": false
   },
   "outputs": [
    {
     "name": "stdout",
     "output_type": "stream",
     "text": [
      "6\n"
     ]
    }
   ],
   "source": [
    "print(np.random.randint(10))"
   ]
  },
  {
   "cell_type": "code",
   "execution_count": 17,
   "metadata": {
    "collapsed": false
   },
   "outputs": [
    {
     "name": "stdout",
     "output_type": "stream",
     "text": [
      "3\n"
     ]
    }
   ],
   "source": [
    "print(np.random.randint(10))"
   ]
  },
  {
   "cell_type": "code",
   "execution_count": 18,
   "metadata": {
    "collapsed": false
   },
   "outputs": [
    {
     "name": "stdout",
     "output_type": "stream",
     "text": [
      "6\n",
      "3\n"
     ]
    }
   ],
   "source": [
    "np.random.seed(42)\n",
    "print(np.random.randint(10))\n",
    "print(np.random.randint(10))"
   ]
  },
  {
   "cell_type": "code",
   "execution_count": 19,
   "metadata": {
    "collapsed": false
   },
   "outputs": [
    {
     "name": "stdout",
     "output_type": "stream",
     "text": [
      "[6 3 7 4 6 9 2 6 7 4]\n",
      "['l' 'l' 'l' 'b' 'r' 't' 'r' 'l' 'l' 'r']\n",
      "[6 3 7 4 6 9 2 6 7 4]\n",
      "['l' 'l' 'l' 'b' 'r' 't' 'r' 'l' 'l' 'r']\n"
     ]
    }
   ],
   "source": [
    "np.random.seed(42)\n",
    "print(np.random.randint(10, size=10))\n",
    "print(np.random.choice(['t', 'r', 'b', 'l'], size=10))\n",
    "np.random.seed(42)\n",
    "print(np.random.randint(10, size=10))\n",
    "print(np.random.choice(['t', 'r', 'b', 'l'], size=10))"
   ]
  },
  {
   "cell_type": "markdown",
   "metadata": {},
   "source": [
    "## 3 Монетка"
   ]
  },
  {
   "cell_type": "markdown",
   "metadata": {},
   "source": [
    "### 3.1 За допомогою функції *choice*"
   ]
  },
  {
   "cell_type": "code",
   "execution_count": 28,
   "metadata": {
    "collapsed": false
   },
   "outputs": [
    {
     "name": "stdout",
     "output_type": "stream",
     "text": [
      "['H' 'H' 'H' 'H' 'H' 'T' 'H' 'H' 'T' 'H']\n"
     ]
    }
   ],
   "source": [
    "p=0.5\n",
    "n=10\n",
    "tosses=np.random.choice([\"H\",\"T\"],p=[p,1-p], size=n)\n",
    "print(tosses)"
   ]
  },
  {
   "cell_type": "code",
   "execution_count": 29,
   "metadata": {
    "collapsed": false
   },
   "outputs": [
    {
     "name": "stdout",
     "output_type": "stream",
     "text": [
      "8 heads and 2 tails\n"
     ]
    }
   ],
   "source": [
    "heads = list(tosses).count(\"H\")\n",
    "tails = list(tosses).count(\"T\")\n",
    "\n",
    "print(\"{} heads and {} tails\".format(heads,tails))"
   ]
  },
  {
   "cell_type": "markdown",
   "metadata": {},
   "source": [
    "Просимулюйте $100$ підкидань монетки та підрахуйте кількість кожної із сторін."
   ]
  },
  {
   "cell_type": "code",
   "execution_count": 30,
   "metadata": {
    "collapsed": true
   },
   "outputs": [
    {
     "name": "stdout",
     "output_type": "stream",
     "text": [
      "['T' 'H' 'T' 'H' 'H' 'H' 'H' 'T' 'T' 'T' 'H' 'T' 'H' 'T' 'H' 'T' 'H' 'H'\n 'T' 'T' 'H' 'T' 'H' 'H' 'H' 'T' 'H' 'H' 'H' 'T' 'T' 'H' 'H' 'T' 'T' 'H'\n 'T' 'T' 'H' 'T' 'T' 'T' 'T' 'H' 'H' 'T' 'H' 'H' 'H' 'H' 'T' 'H' 'T' 'H'\n 'H' 'T' 'T' 'H' 'T' 'T' 'T' 'H' 'H' 'T' 'T' 'H' 'T' 'H' 'H' 'H' 'H' 'H'\n 'H' 'T' 'T' 'H' 'H' 'T' 'T' 'H' 'H' 'H' 'T' 'T' 'T' 'T' 'T' 'T' 'H' 'T'\n 'H' 'T' 'T' 'H' 'H' 'T' 'T' 'T' 'H' 'H']\n51 heads and 49 tails\n"
     ]
    }
   ],
   "source": [
    "# Місце для Вашого коду\n",
    "\n",
    "tosses=np.random.choice([\"H\",\"T\"],p=[p,1-p], size=100)\n",
    "print(tosses)\n",
    "heads = list(tosses).count(\"H\")\n",
    "tails = list(tosses).count(\"T\")\n",
    "\n",
    "print(\"{} heads and {} tails\".format(heads,tails))"
   ]
  },
  {
   "cell_type": "markdown",
   "metadata": {},
   "source": [
    "### 3.2 За допомогою функції *randint*\n",
    "Реалізуйте симуляцію підкидань монетки за допомогою функції **randint**. Просимулюйте $100$ підкидань монетки та підрахуйте кількість кожної із сторін."
   ]
  },
  {
   "cell_type": "code",
   "execution_count": 36,
   "metadata": {
    "collapsed": true
   },
   "outputs": [
    {
     "name": "stdout",
     "output_type": "stream",
     "text": [
      "[0, 1, 0, 1, 0, 1, 1, 1, 1, 0, 0, 0, 1, 1, 0, 1, 1, 0, 0, 1, 0, 1, 1, 0, 0, 0, 0, 0, 0, 1, 0, 0, 1, 1, 1, 0, 0, 1, 0, 1, 0, 0, 0, 0, 0, 0, 1, 1, 0, 0, 0, 1, 0, 1, 1, 0, 0, 1, 1, 1, 1, 1, 0, 1, 1, 0, 1, 0, 0, 0, 0, 1, 1, 0, 1, 0, 0, 1, 1, 1, 0, 1, 1, 0, 0, 0, 1, 1, 0, 0, 0, 1, 0, 1, 1, 0, 1, 1, 1, 1]\n49 heads and 51 tails\n"
     ]
    }
   ],
   "source": [
    "# Місце для Вашого коду\n",
    "tosses=[np.random.randint(0,2) for i in range(100)]\n",
    "print(tosses)\n",
    "heads = tosses.count(1)\n",
    "tails = tosses.count(0)\n",
    "\n",
    "print(\"{} heads and {} tails\".format(heads,tails))"
   ]
  },
  {
   "cell_type": "markdown",
   "metadata": {},
   "source": [
    "### 3.3 За допомогою функції *sample*\n",
    "Реалізуйте симуляцію підкидань монетки за допомогою функції **sample**. Просимулюйте $100$ підкидань монетки та підрахуйте кількість кожної із сторін."
   ]
  },
  {
   "cell_type": "code",
   "execution_count": 42,
   "metadata": {
    "collapsed": true
   },
   "outputs": [
    {
     "name": "stdout",
     "output_type": "stream",
     "text": [
      "[0.2679923463521223, 0.26877060664422725, 1.2242739207853612, 1.7735818453125984, 0.537486492571027, 1.550297147476159, 1.87845519451323, 0.4641937329371493, 0.7519837548888753, 0.32416516001372186, 1.3852384970572558, 1.6966489705996237, 1.8617005251190608, 1.3860386451577862, 1.5499623735531771, 0.5145277129160308, 0.7348089459386751, 0.3610395557932038, 1.1144923257050348, 0.11492192118623401, 1.6993477365075662, 1.1035175414412355, 0.9358471261955086, 0.5276379515194434, 0.7360506652876238, 1.8514802563091846, 0.5206329401597007, 0.44210996713307993, 1.8915375479775303, 1.7011153539918038, 1.7479063078577577, 1.6497440583104444, 0.13958465455828972, 0.6771572167272848, 1.7869969941855652, 0.5210339515126836, 0.38204281319567257, 1.329627378751953, 0.8595917752413516, 1.4884689891039493, 0.7471050159033557, 0.7943789897798257, 1.797878005647977, 1.9955859944921497, 0.9206835534710875, 0.49022735697218933, 1.1169951086190641, 1.7123011577438412, 1.4839637016241454, 1.709097700050405, 1.3199660591889184, 1.3820706502823008, 1.6213399502334858, 1.2313526451831438, 1.9750485982487738, 1.8123848041472699, 1.960697746063166, 0.44444169886137086, 1.7515787060926848, 1.5056910044235807, 0.5718600283066078, 1.9929184206540558, 0.6947938146886941, 1.44983289167276, 0.9665813155227878, 0.32758803534009395, 0.8363904357896339, 0.7622303146999292, 1.0793443272623389, 1.9271732201671017, 0.20205826117515846, 0.48093774607572626, 0.1455488822684572, 0.18281785131445205, 0.2592454107636841, 0.5708386475911589, 0.6504203459794453, 1.7458181710977287, 0.39384009069382686, 1.1591866157356083, 0.12712019317149137, 1.0191621884699757, 1.2685440976855356, 0.7307737707130171, 1.6438110305088847, 0.06712902324171366, 0.7571359091912098, 1.3764770104661312, 0.8616435490742169, 1.5418159282071295, 1.9448434156114076, 0.6621272360041133, 0.8076945301781351, 1.1105617555659377, 0.2524708522725079, 1.4652478453297444, 0.9795251455303937, 1.9402988499432068, 1.5982405779788762, 1.2851033664633256]\n48 heads and 52 tails\n"
     ]
    }
   ],
   "source": [
    "# Місце для Вашого коду\n",
    "\n",
    "a=0\n",
    "b=2\n",
    "tosses = [(b-a)*np.random.sample()+a for i in range(100)]\n",
    "print(tosses)\n",
    "heads=0\n",
    "tails=0\n",
    "for i in tosses:\n",
    "    if i<1:\n",
    "        heads+=1\n",
    "    elif i>1:\n",
    "        tails+=1\n",
    "\n",
    "print(\"{} heads and {} tails\".format(heads,tails))"
   ]
  },
  {
   "cell_type": "markdown",
   "metadata": {},
   "source": [
    "### 3.4 Задача\n",
    "Знайдіть емпіричну ймовірність герба у симуляціях підкидання монетки $n = 10, 50, 100, 250, 500, 1000, 2500, 5000, 10000$ разів."
   ]
  },
  {
   "cell_type": "code",
   "execution_count": 46,
   "metadata": {
    "collapsed": true
   },
   "outputs": [
    {
     "name": "stdout",
     "output_type": "stream",
     "text": [
      "7 heads and 3 tails probability: 0.7\n26 heads and 24 tails probability: 0.52\n49 heads and 51 tails probability: 0.49\n131 heads and 119 tails probability: 0.524\n253 heads and 247 tails probability: 0.506\n497 heads and 503 tails probability: 0.497\n1231 heads and 1269 tails probability: 0.4924\n2494 heads and 2506 tails probability: 0.4988\n5060 heads and 4940 tails probability: 0.506\n"
     ]
    }
   ],
   "source": [
    "# Місце для Вашого коду\n",
    "for n in [10,50,100,250,500,1000,2500,5000,10000]:\n",
    "    tosses=np.random.choice([\"H\",\"T\"],p=[p,1-p], size=n)\n",
    "    heads = list(tosses).count(\"H\")\n",
    "    tails = list(tosses).count(\"T\")\n",
    "    \n",
    "    print(\"{} heads and {} tails probability: {}\".format(heads,tails, heads/(n)))\n"
   ]
  },
  {
   "cell_type": "markdown",
   "metadata": {},
   "source": [
    "## 4 Гральний кубик\n",
    "### 4.1 Реалізація симуляцій\n",
    "Реалізуйте симуляцію кидків грального кубика за допомогою функції **???**. Просимулюйте $60$ кидків кубика та підрахуйте кількість кожної із сторін."
   ]
  },
  {
   "cell_type": "code",
   "execution_count": 49,
   "metadata": {
    "collapsed": true
   },
   "outputs": [
    {
     "name": "stdout",
     "output_type": "stream",
     "text": [
      "[6 4 5 5 5 3 3 4 4 4 6 5 1 5 2 3 6 2 3 6 6 1 5 5 6 3 5 3 1 4 1 4 2 3 5 1 1\n 1 6 2 4 4 2 2 6 5 6 3 6 3 4 5 6 6 3 3 2 6 2 3 4 6 6 4 1 5 5 3 4 2 5 5 1 5\n 4 6 2 3 1 4 5 2 2 2 4 4 6 3 1 3 1 2 6 6 6 3 1 2 4 1]\n[14, 15, 17, 17, 17, 20]\n"
     ]
    }
   ],
   "source": [
    "# Місце для Вашого коду\n",
    "\n",
    "tosses=np.random.choice(range(1,7), size=100)\n",
    "print(tosses)\n",
    "stats = [list(tosses).count(i) for i in range(1,7)]\n",
    "\n",
    "print(stats)"
   ]
  },
  {
   "cell_type": "markdown",
   "metadata": {},
   "source": [
    "### 4.2 Задача\n",
    "Знайдіть емпіричну ймовірність кожної сторони у симуляціях кидання грального кубика $n = 10, 50, 100, 250, 500, 1000, 2500, 5000, 10000$ разів."
   ]
  },
  {
   "cell_type": "code",
   "execution_count": 52,
   "metadata": {
    "collapsed": true
   },
   "outputs": [
    {
     "name": "stdout",
     "output_type": "stream",
     "text": [
      "stats [3, 3, 1, 1, 1, 1], probability [0.3, 0.3, 0.1, 0.1, 0.1, 0.1]\nstats [7, 8, 9, 11, 7, 8], probability [0.14, 0.16, 0.18, 0.22, 0.14, 0.16]\nstats [8, 19, 20, 23, 21, 9], probability [0.08, 0.19, 0.2, 0.23, 0.21, 0.09]\nstats [42, 33, 40, 56, 44, 35], probability [0.168, 0.132, 0.16, 0.224, 0.176, 0.14]\nstats [71, 85, 70, 93, 98, 83], probability [0.142, 0.17, 0.14, 0.186, 0.196, 0.166]\nstats [150, 182, 156, 166, 189, 157], probability [0.15, 0.182, 0.156, 0.166, 0.189, 0.157]\nstats [445, 412, 402, 416, 412, 413], probability [0.178, 0.1648, 0.1608, 0.1664, 0.1648, 0.1652]\nstats [855, 822, 836, 811, 840, 836], probability [0.171, 0.1644, 0.1672, 0.1622, 0.168, 0.1672]\nstats [1713, 1632, 1695, 1627, 1621, 1712], probability [0.1713, 0.1632, 0.1695, 0.1627, 0.1621, 0.1712]\n0.16666666666666666\n"
     ]
    }
   ],
   "source": [
    "# Місце для Вашого коду\n",
    "\n",
    "for n in [10, 50, 100, 250, 500, 1000, 2500, 5000, 10000]:\n",
    "    tosses=np.random.choice(range(1,7), size=n)\n",
    "    stats = [list(tosses).count(i) for i in range(1, 7)]\n",
    "    print(\"stats {}, probability {}\".format(stats, [i/n for i in stats]))\n",
    "print(1/6)\n"
   ]
  },
  {
   "cell_type": "markdown",
   "metadata": {},
   "source": [
    "## 5 Колода карт\n",
    "### 5.1 Реалізація"
   ]
  },
  {
   "cell_type": "code",
   "execution_count": 54,
   "metadata": {
    "collapsed": false
   },
   "outputs": [
    {
     "name": "stdout",
     "output_type": "stream",
     "text": [
      "[('4', '♠'), ('4', '♡'), ('4', '♢'), ('4', '♣'), ('6', '♠'), ('6', '♡'), ('6', '♢'), ('6', '♣'), ('2', '♠'), ('2', '♡'), ('2', '♢'), ('2', '♣'), ('9', '♠'), ('9', '♡'), ('9', '♢'), ('9', '♣'), ('10', '♠'), ('10', '♡'), ('10', '♢'), ('10', '♣'), ('K', '♠'), ('K', '♡'), ('K', '♢'), ('K', '♣'), ('1', '♠'), ('1', '♡'), ('1', '♢'), ('1', '♣'), ('5', '♠'), ('5', '♡'), ('5', '♢'), ('5', '♣'), ('J', '♠'), ('J', '♡'), ('J', '♢'), ('J', '♣'), ('8', '♠'), ('8', '♡'), ('8', '♢'), ('8', '♣'), ('Q', '♠'), ('Q', '♡'), ('Q', '♢'), ('Q', '♣'), ('7', '♠'), ('7', '♡'), ('7', '♢'), ('7', '♣'), ('3', '♠'), ('3', '♡'), ('3', '♢'), ('3', '♣')]\n"
     ]
    }
   ],
   "source": [
    "# Визначимо номінали, масті та карти\n",
    "Ranks = {'1', '2', '3', '4', '5', '6', '7', '8', '9', '10', 'J', 'Q', 'K'}\n",
    "Suits = {'♢', '♠', '♣', '♡'}\n",
    "# Створимо колоду карт\n",
    "Cards = [(Rank, Suit) for Rank in Ranks for Suit in Suits]\n",
    "print(Cards)"
   ]
  },
  {
   "cell_type": "code",
   "execution_count": 31,
   "metadata": {
    "collapsed": false
   },
   "outputs": [
    {
     "name": "stdout",
     "output_type": "stream",
     "text": [
      "3♣, 3♠, 3♡, 3♢, 7♣, 7♠, 7♡, 7♢, 9♣, 9♠, 9♡, 9♢, 5♣, 5♠, 5♡, 5♢, 6♣, 6♠, 6♡, 6♢, J♣, J♠, J♡, J♢, 4♣, 4♠, 4♡, 4♢, Q♣, Q♠, Q♡, Q♢, 8♣, 8♠, 8♡, 8♢, 10♣, 10♠, 10♡, 10♢, 1♣, 1♠, 1♡, 1♢, 2♣, 2♠, 2♡, 2♢, K♣, K♠, K♡, K♢\n"
     ]
    }
   ],
   "source": [
    "# Інший вівід результату\n",
    "print(', '.join([(card[0] + card[1]) for card in Cards]))"
   ]
  },
  {
   "cell_type": "code",
   "execution_count": 32,
   "metadata": {
    "collapsed": false
   },
   "outputs": [
    {
     "name": "stdout",
     "output_type": "stream",
     "text": [
      "♣3, ♣7, ♣9, ♣5, ♣6, ♣J, ♣4, ♣Q, ♣8, ♣10, ♣1, ♣2, ♣K\n",
      "♠3, ♠7, ♠9, ♠5, ♠6, ♠J, ♠4, ♠Q, ♠8, ♠10, ♠1, ♠2, ♠K\n",
      "♡3, ♡7, ♡9, ♡5, ♡6, ♡J, ♡4, ♡Q, ♡8, ♡10, ♡1, ♡2, ♡K\n",
      "♢3, ♢7, ♢9, ♢5, ♢6, ♢J, ♢4, ♢Q, ♢8, ♢10, ♢1, ♢2, ♢K\n"
     ]
    }
   ],
   "source": [
    "# Або згрупувавши по мастях\n",
    "for suit in Suits:\n",
    "    print(\", \".join([(suit+rank) for rank in Ranks]))"
   ]
  },
  {
   "cell_type": "code",
   "execution_count": 33,
   "metadata": {
    "collapsed": false
   },
   "outputs": [
    {
     "name": "stdout",
     "output_type": "stream",
     "text": [
      "[('Q', '♠'), ('10', '♡'), ('3', '♡'), ('2', '♠'), ('2', '♣'), ('10', '♢'), ('J', '♡'), ('1', '♢'), ('9', '♡'), ('3', '♣'), ('6', '♡'), ('Q', '♡'), ('K', '♣'), ('8', '♠'), ('J', '♠'), ('7', '♣'), ('K', '♡'), ('8', '♣'), ('5', '♣'), ('Q', '♢'), ('J', '♣'), ('J', '♢'), ('4', '♡'), ('1', '♡'), ('5', '♡'), ('5', '♢'), ('1', '♣'), ('1', '♠'), ('9', '♠'), ('10', '♣'), ('9', '♢'), ('2', '♢'), ('6', '♠'), ('Q', '♣'), ('10', '♠'), ('7', '♠'), ('2', '♡'), ('K', '♢'), ('8', '♢'), ('6', '♣'), ('K', '♠'), ('8', '♡'), ('7', '♢'), ('7', '♡'), ('4', '♢'), ('6', '♢'), ('3', '♠'), ('4', '♠'), ('9', '♣'), ('5', '♠'), ('4', '♣'), ('3', '♢')]\n"
     ]
    }
   ],
   "source": [
    "# Перемішаємо колоду\n",
    "np.random.shuffle(Cards)\n",
    "\n",
    "print(Cards)"
   ]
  },
  {
   "cell_type": "markdown",
   "metadata": {},
   "source": [
    "### 5.2 Задача\n",
    "Знайдіть емпіричну ймовірність карти парного числа (2, 4, 6, 8, 10) у симуляціях вибору однієї карти з колоди 52 карт $n = 10, 50, 100, 250, 500, 1000, 2500, 5000, 10000$ разів."
   ]
  },
  {
   "cell_type": "code",
   "execution_count": 67,
   "metadata": {
    "collapsed": true
   },
   "outputs": [
    {
     "name": "stdout",
     "output_type": "stream",
     "text": [
      "[('4', '♠'), ('4', '♡'), ('4', '♢'), ('4', '♣'), ('6', '♠'), ('6', '♡'), ('6', '♢'), ('6', '♣'), ('2', '♠'), ('2', '♡'), ('2', '♢'), ('2', '♣'), ('9', '♠'), ('9', '♡'), ('9', '♢'), ('9', '♣'), ('10', '♠'), ('10', '♡'), ('10', '♢'), ('10', '♣'), ('K', '♠'), ('K', '♡'), ('K', '♢'), ('K', '♣'), ('1', '♠'), ('1', '♡'), ('1', '♢'), ('1', '♣'), ('5', '♠'), ('5', '♡'), ('5', '♢'), ('5', '♣'), ('J', '♠'), ('J', '♡'), ('J', '♢'), ('J', '♣'), ('8', '♠'), ('8', '♡'), ('8', '♢'), ('8', '♣'), ('Q', '♠'), ('Q', '♡'), ('Q', '♢'), ('Q', '♣'), ('7', '♠'), ('7', '♡'), ('7', '♢'), ('7', '♣'), ('3', '♠'), ('3', '♡'), ('3', '♢'), ('3', '♣')]\nn= 10 probability 0.4\nn= 50 probability 0.42\nn= 100 probability 0.42\nn= 250 probability 0.316\nn= 500 probability 0.42\nn= 1000 probability 0.368\nn= 2500 probability 0.3764\nn= 5000 probability 0.3948\nn= 10000 probability 0.3777\n"
     ]
    }
   ],
   "source": [
    "# Місце для Вашого коду\n",
    "Cards = [(Rank, Suit) for Rank in Ranks for Suit in Suits]\n",
    "print(Cards)\n",
    "for n in [10, 50, 100, 250, 500, 1000, 2500, 5000, 10000]:\n",
    "    k = 0\n",
    "    for i in range(n):\n",
    "        t = Cards[np.random.randint(52)]\n",
    "        try:\n",
    "            if int(t[0])%2==0:\n",
    "                k+=1\n",
    "        except Exception:\n",
    "            pass\n",
    "    print(\"n= {} probability {}\".format(str(n), str(k/n)))"
   ]
  },
  {
   "cell_type": "markdown",
   "metadata": {},
   "source": [
    "### 5.3 Задача\n",
    "Випадковим чином роздайте колоду з 52 карт чотирьом гравцям (кожному по 13 карт) так, щоб кожен з них мав 4 карти однієї масті та по 3 карти інших мастей. Наприклад, {♣5, ♣10, ♣8, ♣4, ♠4, ♠J, ♠3, ♢Q, ♢7, ♢K, ♡9, ♡1, ♡5}."
   ]
  },
  {
   "cell_type": "code",
   "execution_count": 35,
   "metadata": {
    "collapsed": true
   },
   "outputs": [],
   "source": [
    "# Місце для Вашого коду\n",
    "\n"
   ]
  },
  {
   "cell_type": "markdown",
   "metadata": {},
   "source": [
    "### 5.4 Задача\n",
    "Випадковим чином роздайте колоду з 52 карт чотирьом гравцям (кожному по 13 карт) так, щоб кожен з них мав від 2 до 5 карт кожної масті. Наприклад, {♣5, ♣10, ♣8, ♣4, ♠4, ♠J, ♠3, ♢Q, ♣7, ♢K, ♡9, ♡1, ♡5}."
   ]
  },
  {
   "cell_type": "code",
   "execution_count": 36,
   "metadata": {
    "collapsed": true
   },
   "outputs": [],
   "source": [
    "# Місце для Вашого коду\n",
    "\n"
   ]
  }
 ],
 "metadata": {
  "kernelspec": {
   "display_name": "Python 3",
   "language": "python",
   "name": "python3"
  },
  "language_info": {
   "codemirror_mode": {
    "name": "ipython",
    "version": 3
   },
   "file_extension": ".py",
   "mimetype": "text/x-python",
   "name": "python",
   "nbconvert_exporter": "python",
   "pygments_lexer": "ipython3",
   "version": "3.6.1"
  }
 },
 "nbformat": 4,
 "nbformat_minor": 0
}
