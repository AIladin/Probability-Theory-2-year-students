{
 "cells": [
  {
   "cell_type": "markdown",
   "metadata": {},
   "source": [
    "# Домашня робота №3\n",
    "Будемо використовувати *Збірник задач з теорії ймовірностей та математичної статистики: навч. посібник / В.В. Голомозий, М.В. Карташов, К.В. Ральченко. – К.: Видавничо-поліграфічний центр «Київський університет», 2015. – 366 с.*\n",
    "Електронну версію збірника можна знайти [тут](http://probability.univ.kiev.ua/userfiles/kmv/gkr-problems.pdf)."
   ]
  },
  {
   "cell_type": "markdown",
   "metadata": {},
   "source": [
    "## 1 Задача 1.3.12\n",
    "Знайти ймовiрнiсть того, що серед трьох цифр, кожна з яких вибрана навмання, буде лише 1, 2, 3 рiзних.\n",
    "\n",
    "Обчисліть теоретичну (повним перебором) та еміричну (симулюванням $100000$ експериментів) імовірності."
   ]
  },
  {
   "cell_type": "code",
   "execution_count": 1,
   "metadata": {
    "collapsed": false
   },
   "outputs": [
    {
     "name": "stdout",
     "output_type": "stream",
     "text": [
      "k=1\n theoretical: 0.01, empirical: 0.01004\n\n"
     ]
    },
    {
     "name": "stdout",
     "output_type": "stream",
     "text": [
      "k=2\n theoretical: 0.27, empirical: 0.27078\n\n"
     ]
    },
    {
     "name": "stdout",
     "output_type": "stream",
     "text": [
      "k=3\n theoretical: 0.7200000000000001, empirical: 0.71844\n\n"
     ]
    }
   ],
   "source": [
    "# Місце для Вашого коду\n",
    "import numpy as np\n",
    "from math import factorial\n",
    "N = 100000\n",
    "n = 3\n",
    "\n",
    "\n",
    "def select_num_empirical(k):\n",
    "    count = 0\n",
    "    for i in range(N):\n",
    "        lst = set(np.random.randint(10, size=n))\n",
    "        if len(lst) == k:\n",
    "            count += 1\n",
    "    return count/N\n",
    "        \n",
    "        \n",
    "def select_num_theoretical(k):\n",
    "    if k!=1:\n",
    "        return factorial(10)/(factorial(10-k))*1/10**3*factorial(3)/factorial(k)\n",
    "    else:\n",
    "        return factorial(10)/(factorial(10-k))*1/10**3\n",
    "\n",
    "\n",
    "for k in [1, 2, 3]:\n",
    "    print(\"k={}\\n theoretical: {}, empirical: {}\\n\".format(k,\n",
    "            select_num_theoretical(k), select_num_empirical(k)))\n",
    "\n"
   ]
  },
  {
   "cell_type": "markdown",
   "metadata": {},
   "source": [
    "# 2 Задача 1.3.14\n",
    "З послiдовностi чисел $1, 2, . . . , n$ вибирають навмання $k$ рiзних чисел.\n",
    "Яка ймовiрнiсть того, що:\n",
    "1. кожне з вибраних чисел кратне даному числу $p$;\n",
    "2. кожне з вибраних чисел кратне хоча б одному з двох взаємно простих чисел $p$ i $q$;\n",
    "3. серед вибраних чисел є хоча б одне кратне $p$?\n",
    "\n",
    "Напишіть  відповідні функції для обрахунку теоретичної (повним перебором) та еміричної (симулюванням $100000$ експериментів) імовірностей в залежності від параметрів $n, k, p, q$.\n",
    "Виведіть результат для\n",
    "- $n = 25, k = 5, p = 3, q = 4$;\n",
    "- $n = 25, k = 10, p = 3, q = 4$."
   ]
  },
  {
   "cell_type": "code",
   "execution_count": 27,
   "metadata": {
    "collapsed": false
   },
   "outputs": [
    {
     "name": "stdout",
     "output_type": "stream",
     "text": [
      "n=25, k=5, p=3, q=4\n\n"
     ]
    },
    {
     "name": "stdout",
     "output_type": "stream",
     "text": [
      "1- empirical: 0.00146, theoretical: 0.001054018445322793\n2- empirical: 0.01767, theoretical: 0.014906832298136646\n3- empirical: 0.87756, theoretical: 0.8835309617918313\n\n\nn=25, k=10, p=3, q=4\n\n"
     ]
    },
    {
     "name": "stdout",
     "output_type": "stream",
     "text": [
      "1- empirical: 0.0, theoretical: 0\n2- empirical: 3e-05, theoretical: 2.0191142818683536e-05\n3- empirical: 0.99618, theoretical: 0.9940503432494279\n\n\n"
     ]
    }
   ],
   "source": [
    "# Місце для Вашого коду\n",
    "N = 100000\n",
    "\n",
    "\n",
    "def all_p(lst, p):\n",
    "    for a in lst:\n",
    "        if a % p != 0:\n",
    "            return False\n",
    "    return True\n",
    "\n",
    "\n",
    "def one_p(lst, p):\n",
    "    for a in lst:\n",
    "        if a % p == 0:\n",
    "            return True\n",
    "    return False\n",
    "\n",
    "\n",
    "def pq(lst, p, q):\n",
    "    for a in lst:\n",
    "        if a % p != 0 and a % q != 0:\n",
    "            return False\n",
    "    return True\n",
    "\n",
    "\n",
    "def chose_empirical(n, k, p, q):\n",
    "    count_1 = 0\n",
    "    count_2 = 0\n",
    "    count_3 = 0\n",
    "    for i in range(N):\n",
    "        \n",
    "        lst = []\n",
    "        pool = set(range(1,n))\n",
    "        for j in range(k):\n",
    "            t = np.random.choice(list(pool))\n",
    "            lst.append(t)\n",
    "            pool.remove(lst[-1])\n",
    "        \n",
    "        if all_p(lst, p):\n",
    "            count_1 += 1\n",
    "        elif pq(lst, p, q):\n",
    "            count_2 += 1\n",
    "        elif one_p(lst, p):\n",
    "            count_3 += 1\n",
    "    return count_1/N, count_2/N, count_3/N\n",
    "\n",
    "\n",
    "def combinations(n, k):\n",
    "    return factorial(n)/(factorial(k)*factorial(n-k))\n",
    "\n",
    "\n",
    "def chose_theoretical(n, k, p, q):\n",
    "    try:\n",
    "        rez1 = combinations(n//p, k)/combinations(n, k)\n",
    "    except ValueError:\n",
    "        rez1 = 0\n",
    "    try:\n",
    "        rez2 = combinations(n//p+n//q-n//(p*q), k)/combinations(n, k)\n",
    "    except ValueError:\n",
    "        rez2 = 0\n",
    "    try:\n",
    "        rez3 = 1-combinations(n-n//p, k)/combinations(n, k)\n",
    "    except ValueError:\n",
    "        rez3 = 0 \n",
    "    return rez1, rez2, rez3\n",
    "\n",
    "\n",
    "for n, k, p, q in [(25, 5, 3, 4), (25, 10, 3, 4)]:\n",
    "    print(\"n={}, k={}, p={}, q={}\\n\".format(n, k, p, q))\n",
    "    emp = chose_empirical(n, k, p, q)\n",
    "    theo = chose_theoretical(n, k, p, q)\n",
    "    for i in range(3):\n",
    "        print(\"{}- empirical: {}, theoretical: {}\".format(i+1, emp[i], theo[i]))\n",
    "    print(\"\\n\")\n",
    "\n"
   ]
  },
  {
   "cell_type": "markdown",
   "metadata": {},
   "source": [
    "# 3 Задача 1.4.6\n",
    "В коморi знаходяться $n$ пар черевикiв.\n",
    "З них випадковим чином вибираються $2k$ черевикiв.\n",
    "Яка ймовiрнiсть того, що серед вибраних черевикiв:\n",
    "1. вiдсутнi парнi;\n",
    "2. є рiвно одна комплектна пара;\n",
    "3. є двi комплектнi пари?\n",
    "\n",
    "Напишіть  відповідні функції для обрахунку теоретичної (повним перебором) та еміричної (симулюванням $100000$ експериментів) імовірностей в залежності від параметрів $n, k$.\n",
    "Виведіть результат для\n",
    "- $n = 8, k = 4$;\n",
    "- $n = 13, k = 5$."
   ]
  },
  {
   "cell_type": "code",
   "execution_count": 38,
   "metadata": {
    "collapsed": true
   },
   "outputs": [
    {
     "name": "stdout",
     "output_type": "stream",
     "text": [
      "n=8, k=4\n\n"
     ]
    },
    {
     "name": "stdout",
     "output_type": "stream",
     "text": [
      "1- empirical: 0.01889, theoretical: 7.77000777000777e-05\n2- empirical: 0.27841, theoretical: 0.004351204351204351\n3- empirical: 0.5233, theoretical: 0.016317016317016316\n\n\nn=13, k=5\n\n"
     ]
    },
    {
     "name": "stdout",
     "output_type": "stream",
     "text": [
      "1- empirical: 0.05513, theoretical: 5.3843047516489434e-05\n2- empirical: 0.31181, theoretical: 0.0012114685691210123\n3- empirical: 0.43347, theoretical: 0.0033921119935388343\n\n\n"
     ]
    }
   ],
   "source": [
    "# Місце для Вашого коду\n",
    "N = 100000\n",
    "\n",
    "\n",
    "def chose_boots_empirical(n, k):\n",
    "    count_1 = 0\n",
    "    count_2 = 0\n",
    "    count_3 = 0\n",
    "    for i in range(N):\n",
    "        lst = []\n",
    "        pool = list(range(n))*2\n",
    "        for j in range(2*k):\n",
    "            t = np.random.choice(list(pool))\n",
    "            lst.append(t)\n",
    "            pool.remove(lst[-1])\n",
    "        if len(set(lst)) == len(lst):\n",
    "            count_1 += 1\n",
    "        elif len(set(lst)) == len(lst)-1:\n",
    "            count_2 += 1\n",
    "        elif len(set(lst)) == len(lst)-2:\n",
    "            count_3 += 1\n",
    "            \n",
    "    return count_1/N, count_2/N, count_3/N\n",
    "\n",
    "\n",
    "def chose_boots_theoretical(n, k):\n",
    "    rez1 = combinations(n, 2*k)/combinations(2*n, 2*k)\n",
    "    rez2 = n*combinations(n-1, 2*k-2)/combinations(2*n, 2*k)\n",
    "    rez3 = combinations(n, 2)/2*combinations(n-2, 2*k-4)/combinations(2*n, 2*k)  \n",
    "    return rez1, rez2, rez3\n",
    "  \n",
    "\n",
    "for n, k in [(8, 4), (13, 5)]:\n",
    "    print(\"n={}, k={}\\n\".format(n, k))\n",
    "    emp = chose_boots_empirical(n, k)\n",
    "    theo = chose_boots_theoretical(n, k)\n",
    "    for i in range(3):\n",
    "        print(\"{}- empirical: {}, theoretical: {}\".format(i+1, emp[i], theo[i]))\n",
    "    print(\"\\n\")\n",
    "\n"
   ]
  },
  {
   "cell_type": "markdown",
   "metadata": {},
   "source": [
    "# 4 Задача 1.2.15\n",
    "Нехай $\\Omega = {1, 2, \\ldots, 2n}$.\n",
    "Всiм числам приписанi ймовiрностi, пропорцiйнi логарифмам цих чисел.\n",
    "Знайти цi ймовiрностi.\n",
    "Знайти ймовiрнiсть того, що в результатi експерименту з’явиться:\n",
    "1. парне число;\n",
    "2. непарне число.\n",
    "\n",
    "Напишіть функцію для обрахунку еміричної (симулюванням $100000$ експериментів) імовірності в залежності від параметра $n$.\n",
    "Виведіть результат для\n",
    "- $n = 10$;\n",
    "- $n = 25$."
   ]
  },
  {
   "cell_type": "code",
   "execution_count": 4,
   "metadata": {
    "collapsed": true
   },
   "outputs": [],
   "source": [
    "# Місце для Вашого коду\n",
    "\n"
   ]
  }
 ],
 "metadata": {
  "kernelspec": {
   "display_name": "Python 3",
   "language": "python",
   "name": "python3"
  },
  "language_info": {
   "codemirror_mode": {
    "name": "ipython",
    "version": 3
   },
   "file_extension": ".py",
   "mimetype": "text/x-python",
   "name": "python",
   "nbconvert_exporter": "python",
   "pygments_lexer": "ipython3",
   "version": "3.6.1"
  }
 },
 "nbformat": 4,
 "nbformat_minor": 0
}
